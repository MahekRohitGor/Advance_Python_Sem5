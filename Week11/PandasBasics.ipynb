{
 "cells": [
  {
   "cell_type": "code",
   "execution_count": 1,
   "id": "0d9d89ed",
   "metadata": {},
   "outputs": [],
   "source": [
    "import pandas as pd\n",
    "import numpy as np"
   ]
  },
  {
   "cell_type": "code",
   "execution_count": 5,
   "id": "fb357fa8",
   "metadata": {},
   "outputs": [],
   "source": [
    "players = pd.Series(data=[45,77,18,78,1], index = [\"Rohit\", \"Shubman\", \"Virat\", \"Shreyas\", \"Rahul\"])"
   ]
  },
  {
   "cell_type": "code",
   "execution_count": 6,
   "id": "b5fb4d5f",
   "metadata": {},
   "outputs": [
    {
     "data": {
      "text/plain": [
       "17"
      ]
     },
     "execution_count": 6,
     "metadata": {},
     "output_type": "execute_result"
    }
   ],
   "source": [
    "players[\"Shubman\"]"
   ]
  },
  {
   "cell_type": "code",
   "execution_count": 7,
   "id": "cc905b1b",
   "metadata": {},
   "outputs": [
    {
     "data": {
      "text/plain": [
       "Shubman    4785693214\n",
       "Virat      7894561230\n",
       "dtype: int64"
      ]
     },
     "execution_count": 7,
     "metadata": {},
     "output_type": "execute_result"
    }
   ],
   "source": [
    "PhoneNumbers = {\n",
    "    'Shubman': 4785693214,\n",
    "    'Virat': 7894561230\n",
    "}\n",
    "\n",
    "pd.Series(PhoneNumbers)"
   ]
  },
  {
   "cell_type": "code",
   "execution_count": null,
   "id": "7dbea2bf",
   "metadata": {},
   "outputs": [],
   "source": []
  }
 ],
 "metadata": {
  "kernelspec": {
   "display_name": "Python 3 (ipykernel)",
   "language": "python",
   "name": "python3"
  },
  "language_info": {
   "codemirror_mode": {
    "name": "ipython",
    "version": 3
   },
   "file_extension": ".py",
   "mimetype": "text/x-python",
   "name": "python",
   "nbconvert_exporter": "python",
   "pygments_lexer": "ipython3",
   "version": "3.10.6"
  }
 },
 "nbformat": 4,
 "nbformat_minor": 5
}
